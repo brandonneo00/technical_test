{
 "cells": [
  {
   "cell_type": "code",
   "execution_count": null,
   "metadata": {},
   "outputs": [
    {
     "data": {
      "text/html": [
       "<div>\n",
       "<style scoped>\n",
       "    .dataframe tbody tr th:only-of-type {\n",
       "        vertical-align: middle;\n",
       "    }\n",
       "\n",
       "    .dataframe tbody tr th {\n",
       "        vertical-align: top;\n",
       "    }\n",
       "\n",
       "    .dataframe thead th {\n",
       "        text-align: right;\n",
       "    }\n",
       "</style>\n",
       "<table border=\"1\" class=\"dataframe\">\n",
       "  <thead>\n",
       "    <tr style=\"text-align: right;\">\n",
       "      <th></th>\n",
       "      <th>file_path</th>\n",
       "      <th>text</th>\n",
       "    </tr>\n",
       "  </thead>\n",
       "  <tbody>\n",
       "    <tr>\n",
       "      <th>0</th>\n",
       "      <td>../data/common_voice/cv-valid-train/cv-valid-t...</td>\n",
       "      <td>learn to recognize omens and follow them the o...</td>\n",
       "    </tr>\n",
       "    <tr>\n",
       "      <th>1</th>\n",
       "      <td>../data/common_voice/cv-valid-train/cv-valid-t...</td>\n",
       "      <td>everything in the universe evolved he said</td>\n",
       "    </tr>\n",
       "    <tr>\n",
       "      <th>2</th>\n",
       "      <td>../data/common_voice/cv-valid-train/cv-valid-t...</td>\n",
       "      <td>you came so that you could learn about your dr...</td>\n",
       "    </tr>\n",
       "    <tr>\n",
       "      <th>3</th>\n",
       "      <td>../data/common_voice/cv-valid-train/cv-valid-t...</td>\n",
       "      <td>so now i fear nothing because it was those ome...</td>\n",
       "    </tr>\n",
       "    <tr>\n",
       "      <th>4</th>\n",
       "      <td>../data/common_voice/cv-valid-train/cv-valid-t...</td>\n",
       "      <td>if you start your emails with greetings let me...</td>\n",
       "    </tr>\n",
       "    <tr>\n",
       "      <th>...</th>\n",
       "      <td>...</td>\n",
       "      <td>...</td>\n",
       "    </tr>\n",
       "    <tr>\n",
       "      <th>195771</th>\n",
       "      <td>../data/common_voice/cv-valid-train/cv-valid-t...</td>\n",
       "      <td>the englishman said nothing</td>\n",
       "    </tr>\n",
       "    <tr>\n",
       "      <th>195772</th>\n",
       "      <td>../data/common_voice/cv-valid-train/cv-valid-t...</td>\n",
       "      <td>the irish man sipped his tea</td>\n",
       "    </tr>\n",
       "    <tr>\n",
       "      <th>195773</th>\n",
       "      <td>../data/common_voice/cv-valid-train/cv-valid-t...</td>\n",
       "      <td>what do you know about that</td>\n",
       "    </tr>\n",
       "    <tr>\n",
       "      <th>195774</th>\n",
       "      <td>../data/common_voice/cv-valid-train/cv-valid-t...</td>\n",
       "      <td>the phone rang while she was awake</td>\n",
       "    </tr>\n",
       "    <tr>\n",
       "      <th>195775</th>\n",
       "      <td>../data/common_voice/cv-valid-train/cv-valid-t...</td>\n",
       "      <td>among these people were a couple of cyclists a...</td>\n",
       "    </tr>\n",
       "  </tbody>\n",
       "</table>\n",
       "<p>195776 rows × 2 columns</p>\n",
       "</div>"
      ],
      "text/plain": [
       "                                                file_path  \\\n",
       "0       ../data/common_voice/cv-valid-train/cv-valid-t...   \n",
       "1       ../data/common_voice/cv-valid-train/cv-valid-t...   \n",
       "2       ../data/common_voice/cv-valid-train/cv-valid-t...   \n",
       "3       ../data/common_voice/cv-valid-train/cv-valid-t...   \n",
       "4       ../data/common_voice/cv-valid-train/cv-valid-t...   \n",
       "...                                                   ...   \n",
       "195771  ../data/common_voice/cv-valid-train/cv-valid-t...   \n",
       "195772  ../data/common_voice/cv-valid-train/cv-valid-t...   \n",
       "195773  ../data/common_voice/cv-valid-train/cv-valid-t...   \n",
       "195774  ../data/common_voice/cv-valid-train/cv-valid-t...   \n",
       "195775  ../data/common_voice/cv-valid-train/cv-valid-t...   \n",
       "\n",
       "                                                     text  \n",
       "0       learn to recognize omens and follow them the o...  \n",
       "1              everything in the universe evolved he said  \n",
       "2       you came so that you could learn about your dr...  \n",
       "3       so now i fear nothing because it was those ome...  \n",
       "4       if you start your emails with greetings let me...  \n",
       "...                                                   ...  \n",
       "195771                        the englishman said nothing  \n",
       "195772                       the irish man sipped his tea  \n",
       "195773                        what do you know about that  \n",
       "195774                 the phone rang while she was awake  \n",
       "195775  among these people were a couple of cyclists a...  \n",
       "\n",
       "[195776 rows x 2 columns]"
      ]
     },
     "execution_count": 4,
     "metadata": {},
     "output_type": "execute_result"
    }
   ],
   "source": [
    "import pandas as pd\n",
    "import os\n",
    "\n",
    "# Import data\n",
    "df = pd.read_csv(\"../data/common_voice/cv-valid-train.csv\")\n",
    "\n",
    "# Create filepath col to audiofiles\n",
    "df['file_path'] = df['filename'].apply(lambda x: os.path.join(\"../data/common_voice/cv-valid-train\", x))\n",
    "\n",
    "# Remove unnecessary columns + assume the 'text' col is the ground truth labels\n",
    "df_subset = df[['file_path', 'text']]\n",
    "\n",
    "df_subset"
   ]
  },
  {
   "cell_type": "code",
   "execution_count": 6,
   "metadata": {},
   "outputs": [],
   "source": [
    "import torchaudio"
   ]
  },
  {
   "cell_type": "code",
   "execution_count": 8,
   "metadata": {},
   "outputs": [
    {
     "name": "stdout",
     "output_type": "stream",
     "text": [
      "Resampling complete. Files saved in: ../data/resampled_audio/cv-valid-train\n"
     ]
    }
   ],
   "source": [
    "#Resample Audios\n",
    "import os\n",
    "def resample_audio(input_path, output_path, new_sr=16000):\n",
    "  \"\"\"Resamples an audio file to a new sample rate.\n",
    "\n",
    "  Args:\n",
    "    input_path: Path to the input audio file.\n",
    "    output_path: Path to save the resampled audio file.\n",
    "    new_sr: The desired new sample rate.\n",
    "  \"\"\"\n",
    "  waveform, sr = torchaudio.load(input_path)\n",
    "  resampled_waveform = torchaudio.transforms.Resample(sr, new_sr)(waveform)\n",
    "  torchaudio.save(output_path, resampled_waveform, new_sr)\n",
    "\n",
    "# Directory containing your MP3 files\n",
    "input_dir = '../data/common_voice/cv-valid-train/cv-valid-train'\n",
    "\n",
    "# Directory to save the resampled files (create if it doesn't exist)\n",
    "output_dir = '../data/resampled_audio/cv-valid-train'\n",
    "os.makedirs(output_dir, exist_ok=True)\n",
    "\n",
    "for filename in os.listdir(input_dir):\n",
    "  if filename.endswith('.mp3'):\n",
    "    input_path = os.path.join(input_dir, filename)\n",
    "    output_path = os.path.join(output_dir, filename)  # Save with the same name\n",
    "    resample_audio(input_path, output_path)\n",
    "\n",
    "print(\"Resampling complete. Files saved in:\", output_dir)"
   ]
  },
  {
   "cell_type": "code",
   "execution_count": 10,
   "metadata": {},
   "outputs": [
    {
     "name": "stdout",
     "output_type": "stream",
     "text": [
      "Number of files: 195776\n"
     ]
    }
   ],
   "source": [
    "file_count = len([f for f in os.listdir(output_dir) if os.path.isfile(os.path.join(output_dir, f))])\n",
    "print(f\"Number of files: {file_count}\")"
   ]
  },
  {
   "cell_type": "code",
   "execution_count": 13,
   "metadata": {},
   "outputs": [
    {
     "name": "stdout",
     "output_type": "stream",
     "text": [
      "Resampling complete. Files saved in: ../data/resampled_audio/cv-valid-test\n"
     ]
    }
   ],
   "source": [
    "# Doing for cv-valid-test\n",
    "\n",
    "# Directory containing your MP3 files\n",
    "input_dir_test = '../data/common_voice/cv-valid-test/cv-valid-test'\n",
    "\n",
    "# Directory to save the resampled files (create if it doesn't exist)\n",
    "output_dir_test = '../data/resampled_audio/cv-valid-test'\n",
    "os.makedirs(output_dir_test, exist_ok=True)\n",
    "\n",
    "for filename in os.listdir(input_dir_test):\n",
    "  if filename.endswith('.mp3'):\n",
    "    input_path = os.path.join(input_dir_test, filename)\n",
    "    output_path = os.path.join(output_dir_test, filename)  # Save with the same name\n",
    "    resample_audio(input_path, output_path)\n",
    "\n",
    "print(\"Resampling complete. Files saved in:\", output_dir_test)\n"
   ]
  },
  {
   "cell_type": "code",
   "execution_count": 14,
   "metadata": {},
   "outputs": [
    {
     "name": "stdout",
     "output_type": "stream",
     "text": [
      "Number of files: 3995\n"
     ]
    }
   ],
   "source": [
    "file_count_test = len([f for f in os.listdir(output_dir_test) if os.path.isfile(os.path.join(output_dir_test, f))])\n",
    "print(f\"Number of files: {file_count_test}\")"
   ]
  },
  {
   "cell_type": "code",
   "execution_count": 22,
   "metadata": {},
   "outputs": [
    {
     "name": "stdout",
     "output_type": "stream",
     "text": [
      "Resampling complete. Files saved in: ../data/resampled_audio/cv-valid-dev\n"
     ]
    }
   ],
   "source": [
    "# Doing for cv-valid-dev\n",
    "\n",
    "# Directory containing your MP3 files\n",
    "input_dir_dev = '../data/common_voice/cv-valid-dev/cv-valid-dev'\n",
    "\n",
    "# Directory to save the resampled files (create if it doesn't exist)\n",
    "output_dir_dev = '../data/resampled_audio/cv-valid-dev'\n",
    "os.makedirs(output_dir_dev, exist_ok=True)\n",
    "\n",
    "for filename in os.listdir(input_dir_dev):\n",
    "  if filename.endswith('.mp3'):\n",
    "    input_path = os.path.join(input_dir_dev, filename)\n",
    "    output_path = os.path.join(output_dir_dev, filename)  # Save with the same name\n",
    "    resample_audio(input_path, output_path)\n",
    "\n",
    "print(\"Resampling complete. Files saved in:\", output_dir_dev)"
   ]
  },
  {
   "cell_type": "code",
   "execution_count": 23,
   "metadata": {},
   "outputs": [
    {
     "name": "stdout",
     "output_type": "stream",
     "text": [
      "Number of files: 4076\n"
     ]
    }
   ],
   "source": [
    "file_count_dev = len([f for f in os.listdir(output_dir_dev) if os.path.isfile(os.path.join(output_dir_dev, f))])\n",
    "print(f\"Number of files: {file_count_dev}\")"
   ]
  }
 ],
 "metadata": {
  "kernelspec": {
   "display_name": "venv",
   "language": "python",
   "name": "python3"
  },
  "language_info": {
   "codemirror_mode": {
    "name": "ipython",
    "version": 3
   },
   "file_extension": ".py",
   "mimetype": "text/x-python",
   "name": "python",
   "nbconvert_exporter": "python",
   "pygments_lexer": "ipython3",
   "version": "3.13.2"
  }
 },
 "nbformat": 4,
 "nbformat_minor": 2
}
